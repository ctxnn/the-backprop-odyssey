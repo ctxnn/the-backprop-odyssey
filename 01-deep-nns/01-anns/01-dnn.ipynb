{
 "cells": [
  {
   "cell_type": "markdown",
   "id": "8b0bd1c4",
   "metadata": {},
   "source": [
    "# a very basic neural network formulation and implementation\n",
    "\n",
    "note: the implementation will be using numpy only "
   ]
  },
  {
   "cell_type": "markdown",
   "id": "9327a3e0",
   "metadata": {},
   "source": []
  },
  {
   "cell_type": "code",
   "execution_count": 2,
   "id": "730cdf25",
   "metadata": {},
   "outputs": [],
   "source": [
    "import numpy as np "
   ]
  },
  {
   "cell_type": "code",
   "execution_count": null,
   "id": "ba8e20c2",
   "metadata": {},
   "outputs": [],
   "source": [
    "class MLP: \n",
    "    \n",
    "    def __init__(self, dims, lr):\n",
    "        self.dims = dims \n",
    "        self.lr = lr \n",
    "        \n",
    "        #dims = [input dim, hidden dim, output dim]\n",
    "        self.W1 = np.random.randn(dims[0], dims[1]) \n",
    "        self.b1 = np.zeros((1, dims[1]))\n",
    "        self.W2 = np.random.randn(dims[1], dims[2])\n",
    "        self.b2 = np.zeros((1, dims[2]))\n",
    "        \n",
    "    def activation(self, x):\n",
    "        return np.maximum(0, x)\n",
    "    \n",
    "    def softmax(self, x):\n",
    "        exp_x = np.exp(x - np.max(x, axis=1, keepdims=True))\n",
    "        return exp_x / np.sum(exp_x, axis=1, keepdims=True)\n",
    "    \n",
    "    def forward(self, X):\n",
    "        self.z1 = np.dot(X, self.W1) + self.b1\n",
    "        self.a1 = self.activation(self.z1)\n",
    "        self.z2 = np.dot(self.a1, self.W2) + self.b2\n",
    "        self.a2 = self.softmax(self.z2)\n",
    "        return self.a2\n",
    "    \n",
    "    def loss(self, y_true, y_pred):\n",
    "        m = y_true.shape[0]\n",
    "        log_likelihood = -np.log(y_pred[range(m), y_true])\n",
    "        loss = np.sum(log_likelihood) / m\n",
    "        return loss \n",
    "    \n",
    "    def backward(self, x):\n",
    "        m = x.shape[0]\n",
    "        delta2 = self.a2.copy()\n",
    "        delta2[range(m), x] -= 1\n",
    "        delta2 /= m\n",
    "\n",
    "        dW2 = np.dot(self.a1.T, delta2)\n",
    "        db2 = np.sum(delta2, axis=0, keepdims=True)\n",
    "\n",
    "        delta1 = np.dot(delta2, self.W2.T) * (self.z1 > 0)\n",
    "        dW1 = np.dot(x.T, delta1)\n",
    "        db1 = np.sum(delta1, axis=0, keepdims=True)\n",
    "\n",
    "        return dW1, db1, dW2, db2\n",
    "    \n",
    "    def update(self, dW1, db1, dW2, db2):\n",
    "        self.W1 -= self.lr * dW1\n",
    "        self.b1 -= self.lr * db1\n",
    "        self.W2 -= self.lr * dW2\n",
    "        self.b2 -= self.lr * db2\n",
    "        \n",
    "    def train(self, X, y, epochs):\n",
    "        for epoch in range(epochs):\n",
    "            y_pred = self.forward(X\n",
    "            loss = self.loss(y, y_pred)\n",
    "            dW1, db1, dW2, db2 = self.backward(y)\n",
    "            self.update(dW1, db1, dW2, db2)\n",
    "\n",
    "            if epoch % 100 == 0:\n",
    "                print(f'Epoch {epoch}, Loss: {loss:.4f}')\n",
    "                \n",
    "\n",
    "        "
   ]
  },
  {
   "cell_type": "code",
   "execution_count": 12,
   "id": "0941e317",
   "metadata": {},
   "outputs": [
    {
     "name": "stdout",
     "output_type": "stream",
     "text": [
      "Epoch 0, Loss: 1.5474\n",
      "Epoch 100, Loss: 0.9780\n",
      "Epoch 200, Loss: 0.9054\n",
      "Epoch 300, Loss: 0.8757\n",
      "Epoch 400, Loss: 0.8528\n",
      "Epoch 500, Loss: 0.8312\n",
      "Epoch 600, Loss: 0.8117\n",
      "Epoch 700, Loss: 0.7945\n",
      "Epoch 800, Loss: 0.7797\n",
      "Epoch 900, Loss: 0.7646\n"
     ]
    }
   ],
   "source": [
    "# Example data\n",
    "X = np.random.rand(100, 20)\n",
    "y = np.random.randint(0, 2, size=100)\n",
    "\n",
    "# Initialize model\n",
    "model = MLP(dims=[20, 10, 2], lr=0.001)\n",
    "\n",
    "# Train model\n",
    "model.train(X, y, epochs=1000)\n"
   ]
  }
 ],
 "metadata": {
  "kernelspec": {
   "display_name": "Python 3",
   "language": "python",
   "name": "python3"
  },
  "language_info": {
   "codemirror_mode": {
    "name": "ipython",
    "version": 3
   },
   "file_extension": ".py",
   "mimetype": "text/x-python",
   "name": "python",
   "nbconvert_exporter": "python",
   "pygments_lexer": "ipython3",
   "version": "3.11.3"
  }
 },
 "nbformat": 4,
 "nbformat_minor": 5
}
